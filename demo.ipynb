{
 "cells": [
  {
   "cell_type": "markdown",
   "id": "52e3a042-d172-4da0-9b2f-c65393dc1655",
   "metadata": {},
   "source": [
    "# `feedzai-altair-theme` demo"
   ]
  },
  {
   "cell_type": "markdown",
   "id": "ad200c67-f1f9-4984-9cdb-afa31c45f9cd",
   "metadata": {},
   "source": [
    "To use the `feedzai` theme in your Altair charts, you just need to import Altair (no need to import the `feedzai-altair-theme` package):"
   ]
  },
  {
   "cell_type": "code",
   "execution_count": null,
   "id": "499c8566-683d-4fd8-a1a2-4c947b4ed4f5",
   "metadata": {},
   "outputs": [],
   "source": [
    "import altair as alt\n",
    "\n",
    "# For the example charts in this notebook, the vega_datasets package is also imported:\n",
    "from vega_datasets import data "
   ]
  },
  {
   "cell_type": "markdown",
   "id": "d7bfd16b-93ea-4994-8510-d183636157f4",
   "metadata": {},
   "source": [
    "By default, the theme used by Altair is the `default` theme:"
   ]
  },
  {
   "cell_type": "code",
   "execution_count": null,
   "id": "e9848138-e9b9-499b-981a-b5378242df4c",
   "metadata": {},
   "outputs": [],
   "source": [
    "alt.themes.active"
   ]
  },
  {
   "cell_type": "markdown",
   "id": "8d5e1ae3-a3ac-40a8-b5cd-174d60703aac",
   "metadata": {},
   "source": [
    "When checking all the available themes, the `feedzai` theme is one of them:"
   ]
  },
  {
   "cell_type": "code",
   "execution_count": null,
   "id": "0135b57a-aae2-4fec-8d81-a8eaad94d001",
   "metadata": {},
   "outputs": [],
   "source": [
    "alt.themes.names()"
   ]
  },
  {
   "cell_type": "markdown",
   "id": "4bae645f-756a-4a31-abb1-a60e3ef37a5c",
   "metadata": {},
   "source": [
    "To apply the `feedzai` theme to all charts on this notebook, enable it and confirm that it is the new active theme:"
   ]
  },
  {
   "cell_type": "code",
   "execution_count": null,
   "id": "be101ef3-6f1b-4cd7-b900-3408814f16fd",
   "metadata": {},
   "outputs": [],
   "source": [
    "alt.themes.enable(\"feedzai\")"
   ]
  },
  {
   "cell_type": "code",
   "execution_count": null,
   "id": "94bac21a-3076-4c57-b7da-0e1f204c4d55",
   "metadata": {},
   "outputs": [],
   "source": [
    "alt.themes.active"
   ]
  },
  {
   "cell_type": "markdown",
   "id": "6d19e02d-e086-4548-be43-3353e4a57e05",
   "metadata": {},
   "source": [
    "Now, let's see some examples! For other examples, go to the [Example Gallery in the Altair documentation](https://altair-viz.github.io/gallery/index.html) and copy and paste the code snippet into this notebook."
   ]
  },
  {
   "cell_type": "markdown",
   "id": "ebd1d8e8-f1ae-46b6-aa10-387749943949",
   "metadata": {
    "tags": []
   },
   "source": [
    "## Bar chart"
   ]
  },
  {
   "cell_type": "markdown",
   "id": "2061255e-0f90-46e7-af69-9314442f43d1",
   "metadata": {},
   "source": [
    "[Source](https://altair-viz.github.io/gallery/simple_bar_chart.html)"
   ]
  },
  {
   "cell_type": "code",
   "execution_count": null,
   "id": "41e17b91-8a09-4f71-8fc0-30391bc4ce59",
   "metadata": {},
   "outputs": [],
   "source": [
    "source = alt.pd.DataFrame(\n",
    "    {\n",
    "        \"a\": [\"A\", \"B\", \"C\", \"D\", \"E\", \"F\", \"G\", \"H\", \"I\"],\n",
    "        \"b\": [28, 55, 43, 91, 81, 53, 19, 87, 52],\n",
    "    }\n",
    ")\n",
    "\n",
    "alt.Chart(source).mark_bar(tooltip=True).encode(x=\"a\", y=\"b\")"
   ]
  },
  {
   "cell_type": "markdown",
   "id": "60d23a22-b1bf-4a1e-86dd-529704289ac2",
   "metadata": {},
   "source": [
    "## Histogram"
   ]
  },
  {
   "cell_type": "markdown",
   "id": "854b5c4d-4b52-4106-9804-20b775324d99",
   "metadata": {},
   "source": [
    "[Source](https://altair-viz.github.io/gallery/simple_histogram.html)"
   ]
  },
  {
   "cell_type": "markdown",
   "id": "089e662d-d1b0-411d-a04d-858fd6288cb3",
   "metadata": {},
   "source": [
    "---"
   ]
  }
 ],
 "metadata": {
  "kernelspec": {
   "display_name": "Python 3 (ipykernel)",
   "language": "python",
   "name": "python3"
  },
  "language_info": {
   "codemirror_mode": {
    "name": "ipython",
    "version": 3
   },
   "file_extension": ".py",
   "mimetype": "text/x-python",
   "name": "python",
   "nbconvert_exporter": "python",
   "pygments_lexer": "ipython3",
   "version": "3.7.12"
  }
 },
 "nbformat": 4,
 "nbformat_minor": 5
}
