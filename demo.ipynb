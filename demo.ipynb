{
 "cells": [
  {
   "cell_type": "code",
   "execution_count": null,
   "id": "499c8566-683d-4fd8-a1a2-4c947b4ed4f5",
   "metadata": {},
   "outputs": [],
   "source": [
    "import altair as alt"
   ]
  },
  {
   "cell_type": "code",
   "execution_count": null,
   "id": "e9848138-e9b9-499b-981a-b5378242df4c",
   "metadata": {},
   "outputs": [],
   "source": [
    "alt.themes.active"
   ]
  },
  {
   "cell_type": "code",
   "execution_count": null,
   "id": "0135b57a-aae2-4fec-8d81-a8eaad94d001",
   "metadata": {},
   "outputs": [],
   "source": [
    "alt.themes.names()"
   ]
  },
  {
   "cell_type": "code",
   "execution_count": null,
   "id": "be101ef3-6f1b-4cd7-b900-3408814f16fd",
   "metadata": {},
   "outputs": [],
   "source": [
    "alt.themes.enable(\"feedzai\")"
   ]
  },
  {
   "cell_type": "code",
   "execution_count": null,
   "id": "94bac21a-3076-4c57-b7da-0e1f204c4d55",
   "metadata": {},
   "outputs": [],
   "source": [
    "alt.themes.active"
   ]
  },
  {
   "cell_type": "code",
   "execution_count": null,
   "id": "41e17b91-8a09-4f71-8fc0-30391bc4ce59",
   "metadata": {},
   "outputs": [],
   "source": [
    "source = alt.pd.DataFrame(\n",
    "    {\n",
    "        \"a\": [\"A\", \"B\", \"C\", \"D\", \"E\", \"F\", \"G\", \"H\", \"I\"],\n",
    "        \"b\": [28, 55, 43, 91, 81, 53, 19, 87, 52],\n",
    "    }\n",
    ")\n",
    "\n",
    "alt.Chart(source).mark_bar(tooltip=True).encode(x=\"a\", y=\"b\")"
   ]
  },
  {
   "cell_type": "markdown",
   "id": "089e662d-d1b0-411d-a04d-858fd6288cb3",
   "metadata": {},
   "source": [
    "---"
   ]
  }
 ],
 "metadata": {
  "kernelspec": {
   "display_name": "Python 3 (ipykernel)",
   "language": "python",
   "name": "python3"
  },
  "language_info": {
   "codemirror_mode": {
    "name": "ipython",
    "version": 3
   },
   "file_extension": ".py",
   "mimetype": "text/x-python",
   "name": "python",
   "nbconvert_exporter": "python",
   "pygments_lexer": "ipython3",
   "version": "3.7.12"
  }
 },
 "nbformat": 4,
 "nbformat_minor": 5
}
